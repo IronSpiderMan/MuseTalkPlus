{
 "cells": [
  {
   "cell_type": "code",
   "execution_count": 2,
   "id": "af83edfa-c138-4b24-b973-5486461f453e",
   "metadata": {},
   "outputs": [],
   "source": [
    "import os\n",
    "import sys\n",
    "import time\n",
    "import glob\n",
    "import copy\n",
    "import json\n",
    "import queue\n",
    "import pickle\n",
    "import shutil\n",
    "import argparse\n",
    "import threading\n",
    "import subprocess\n",
    "from concurrent.futures import ThreadPoolExecutor\n",
    "\n",
    "import cv2\n",
    "import torch\n",
    "import numpy as np\n",
    "from tqdm import tqdm\n",
    "from omegaconf import OmegaConf\n",
    "\n",
    "from musetalk.utils.utils import datagen\n",
    "from musetalk.utils.preprocessing import get_landmark_and_bbox\n",
    "from musetalk.utils.blending import get_image_prepare_material, get_image_blending\n",
    "from musetalk.utils.utils import load_all_model"
   ]
  },
  {
   "cell_type": "code",
   "execution_count": 3,
   "id": "b5b9c7f0-1888-4d46-b36c-747617609d25",
   "metadata": {},
   "outputs": [
    {
     "name": "stdout",
     "output_type": "stream",
     "text": [
      "Whisper(\n",
      "  (encoder): AudioEncoder(\n",
      "    (conv1): Conv1d(80, 384, kernel_size=(3,), stride=(1,), padding=(1,))\n",
      "    (conv2): Conv1d(384, 384, kernel_size=(3,), stride=(2,), padding=(1,))\n",
      "    (blocks): ModuleList(\n",
      "      (0-3): 4 x ResidualAttentionBlock(\n",
      "        (attn): MultiHeadAttention(\n",
      "          (query): Linear(in_features=384, out_features=384, bias=True)\n",
      "          (key): Linear(in_features=384, out_features=384, bias=False)\n",
      "          (value): Linear(in_features=384, out_features=384, bias=True)\n",
      "          (out): Linear(in_features=384, out_features=384, bias=True)\n",
      "        )\n",
      "        (attn_ln): LayerNorm((384,), eps=1e-05, elementwise_affine=True)\n",
      "        (mlp): Sequential(\n",
      "          (0): Linear(in_features=384, out_features=1536, bias=True)\n",
      "          (1): GELU(approximate='none')\n",
      "          (2): Linear(in_features=1536, out_features=384, bias=True)\n",
      "        )\n",
      "        (mlp_ln): LayerNorm((384,), eps=1e-05, elementwise_affine=True)\n",
      "      )\n",
      "    )\n",
      "    (ln_post): LayerNorm((384,), eps=1e-05, elementwise_affine=True)\n",
      "  )\n",
      "  (decoder): TextDecoder(\n",
      "    (token_embedding): Embedding(51865, 384)\n",
      "    (blocks): ModuleList(\n",
      "      (0-3): 4 x ResidualAttentionBlock(\n",
      "        (attn): MultiHeadAttention(\n",
      "          (query): Linear(in_features=384, out_features=384, bias=True)\n",
      "          (key): Linear(in_features=384, out_features=384, bias=False)\n",
      "          (value): Linear(in_features=384, out_features=384, bias=True)\n",
      "          (out): Linear(in_features=384, out_features=384, bias=True)\n",
      "        )\n",
      "        (attn_ln): LayerNorm((384,), eps=1e-05, elementwise_affine=True)\n",
      "        (cross_attn): MultiHeadAttention(\n",
      "          (query): Linear(in_features=384, out_features=384, bias=True)\n",
      "          (key): Linear(in_features=384, out_features=384, bias=False)\n",
      "          (value): Linear(in_features=384, out_features=384, bias=True)\n",
      "          (out): Linear(in_features=384, out_features=384, bias=True)\n",
      "        )\n",
      "        (cross_attn_ln): LayerNorm((384,), eps=1e-05, elementwise_affine=True)\n",
      "        (mlp): Sequential(\n",
      "          (0): Linear(in_features=384, out_features=1536, bias=True)\n",
      "          (1): GELU(approximate='none')\n",
      "          (2): Linear(in_features=1536, out_features=384, bias=True)\n",
      "        )\n",
      "        (mlp_ln): LayerNorm((384,), eps=1e-05, elementwise_affine=True)\n",
      "      )\n",
      "    )\n",
      "    (ln): LayerNorm((384,), eps=1e-05, elementwise_affine=True)\n",
      "  )\n",
      ")\n"
     ]
    }
   ],
   "source": [
    "audio_feature_extractor, vae, unet, pe = load_all_model()\n",
    "device = torch.device(\"cuda\" if torch.cuda.is_available() else \"cpu\")\n",
    "timesteps = torch.tensor([0], device=device)\n",
    "pe = pe.half()\n",
    "vae.vae = vae.vae.half()\n",
    "unet.model = unet.model.half()"
   ]
  },
  {
   "cell_type": "code",
   "execution_count": 4,
   "id": "ee6bcfba-ac7b-4570-aa0a-ab0ed99a3d0a",
   "metadata": {},
   "outputs": [
    {
     "name": "stderr",
     "output_type": "stream",
     "text": [
      "/opt/miniconda3/envs/torch2/lib/python3.9/site-packages/torch/utils/_contextlib.py:125: UserWarning: Decorating classes is deprecated and will be disabled in future versions. You should only decorate functions or methods. To preserve the current behavior of class decoration, you can directly decorate the `__init__` method and nothing else.\n",
      "  warnings.warn(\"Decorating classes is deprecated and will be disabled in \"\n"
     ]
    }
   ],
   "source": [
    "def video2images(vid_path, save_path):\n",
    "    output_pattern = os.path.join(save_path, \"%08d.png\")\n",
    "    ffmpeg_command = [\n",
    "        \"ffmpeg\",\n",
    "        \"-i\", vid_path,\n",
    "        \"-vf\", \"fps=26\",\n",
    "        output_pattern\n",
    "    ]\n",
    "    try:\n",
    "        subprocess.run(ffmpeg_command, check=True)\n",
    "        print(f\"Frames extracted to {save_path}\")\n",
    "    except subprocess.CalledProcessError as e:\n",
    "        print(f\"An error occurred: {e}\")\n",
    "\n",
    "\n",
    "def make_multiple_dirs(path_list):\n",
    "    for path in path_list:\n",
    "        os.makedirs(path) if not os.path.exists(path) else None\n",
    "\n",
    "def read_images(img_list):\n",
    "    print(\"reading images using OpenCV asynchronously\")\n",
    "    frames = []\n",
    "    with ThreadPoolExecutor() as executor:\n",
    "        for frame in tqdm(executor.map(cv2.imread, img_list)):\n",
    "            frames.append(frame)\n",
    "    return frames\n",
    "\n",
    "\n",
    "@torch.no_grad()\n",
    "class Avatar:\n",
    "    def __init__(self, avatar_id, video_path, bbox_shift, batch_size, preparation):\n",
    "        self.avatar_id = avatar_id\n",
    "        self.video_path = video_path\n",
    "        self.bbox_shift = bbox_shift\n",
    "        self.avatar_path = f\"./results/avatars/{avatar_id}\"\n",
    "        self.full_imgs_path = f\"{self.avatar_path}/full_imgs\"\n",
    "        self.coords_path = f\"{self.avatar_path}/coords.pkl\"\n",
    "        self.latents_out_path = f\"{self.avatar_path}/latents.pt\"\n",
    "        self.video_out_path = f\"{self.avatar_path}/vid_output/\"\n",
    "        self.mask_out_path = f\"{self.avatar_path}/mask\"\n",
    "        self.mask_coords_path = f\"{self.avatar_path}/mask_coords.pkl\"\n",
    "        self.avatar_info_path = f\"{self.avatar_path}/avator_info.json\"\n",
    "        self.avatar_info = {\n",
    "            \"avatar_id\": avatar_id,\n",
    "            \"video_path\": video_path,\n",
    "            \"bbox_shift\": bbox_shift\n",
    "        }\n",
    "        self.preparation = preparation\n",
    "        self.batch_size = batch_size\n",
    "        self.idx = 0\n",
    "        self.init()\n",
    "\n",
    "    def init(self):\n",
    "        if self.preparation:\n",
    "            if os.path.exists(self.avatar_path):\n",
    "                response = input(f\"{self.avatar_id} exists, Do you want to re-create it ? (y/n)\")\n",
    "                if response.lower() == \"y\":\n",
    "                    shutil.rmtree(self.avatar_path)\n",
    "                    print(\"*********************************\")\n",
    "                    print(f\"  creating avator: {self.avatar_id}\")\n",
    "                    print(\"*********************************\")\n",
    "                    make_multiple_dirs([self.avatar_path, self.full_imgs_path, self.video_out_path, self.mask_out_path])\n",
    "                    self.prepare_material()\n",
    "                else:\n",
    "                    self.input_latent_list_cycle = torch.load(self.latents_out_path)\n",
    "                    with open(self.coords_path, 'rb') as f:\n",
    "                        self.coord_list_cycle = pickle.load(f)\n",
    "                    input_img_list = glob.glob(os.path.join(self.full_imgs_path, '*.[jpJP][pnPN]*[gG]'))\n",
    "                    input_img_list = sorted(input_img_list, key=lambda x: int(os.path.splitext(os.path.basename(x))[0]))\n",
    "                    self.frame_list_cycle = read_images(input_img_list)\n",
    "                    with open(self.mask_coords_path, 'rb') as f:\n",
    "                        self.mask_coords_list_cycle = pickle.load(f)\n",
    "                    input_mask_list = glob.glob(os.path.join(self.mask_out_path, '*.[jpJP][pnPN]*[gG]'))\n",
    "                    input_mask_list = sorted(input_mask_list,\n",
    "                                             key=lambda x: int(os.path.splitext(os.path.basename(x))[0]))\n",
    "                    self.mask_list_cycle = read_images(input_mask_list)\n",
    "            else:\n",
    "                print(\"*********************************\")\n",
    "                print(f\"  creating avator: {self.avatar_id}\")\n",
    "                print(\"*********************************\")\n",
    "                make_multiple_dirs([self.avatar_path, self.full_imgs_path, self.video_out_path, self.mask_out_path])\n",
    "                self.prepare_material()\n",
    "        else:\n",
    "            if not os.path.exists(self.avatar_path):\n",
    "                print(f\"{self.avatar_id} does not exist, you should set preparation to True\")\n",
    "                sys.exit()\n",
    "\n",
    "            with open(self.avatar_info_path, \"r\") as f:\n",
    "                avatar_info = json.load(f)\n",
    "\n",
    "            if avatar_info['bbox_shift'] != self.avatar_info['bbox_shift']:\n",
    "                response = input(f\" 【bbox_shift】 is changed, you need to re-create it ! (c/continue)\")\n",
    "                if response.lower() == \"c\":\n",
    "                    shutil.rmtree(self.avatar_path)\n",
    "                    print(\"*********************************\")\n",
    "                    print(f\"  creating avator: {self.avatar_id}\")\n",
    "                    print(\"*********************************\")\n",
    "                    make_multiple_dirs([self.avatar_path, self.full_imgs_path, self.video_out_path, self.mask_out_path])\n",
    "                    self.prepare_material()\n",
    "                else:\n",
    "                    sys.exit()\n",
    "            else:\n",
    "                self.input_latent_list_cycle = torch.load(self.latents_out_path)\n",
    "                with open(self.coords_path, 'rb') as f:\n",
    "                    self.coord_list_cycle = pickle.load(f)\n",
    "                input_img_list = glob.glob(os.path.join(self.full_imgs_path, '*.[jpJP][pnPN]*[gG]'))\n",
    "                input_img_list = sorted(input_img_list, key=lambda x: int(os.path.splitext(os.path.basename(x))[0]))\n",
    "                self.frame_list_cycle = read_images(input_img_list)\n",
    "                with open(self.mask_coords_path, 'rb') as f:\n",
    "                    self.mask_coords_list_cycle = pickle.load(f)\n",
    "                input_mask_list = glob.glob(os.path.join(self.mask_out_path, '*.[jpJP][pnPN]*[gG]'))\n",
    "                input_mask_list = sorted(input_mask_list, key=lambda x: int(os.path.splitext(os.path.basename(x))[0]))\n",
    "                self.mask_list_cycle = read_images(input_mask_list)\n",
    "\n",
    "    def prepare_material(self):\n",
    "        print(\"preparing data materials ... ...\")\n",
    "        with open(self.avatar_info_path, \"w\") as f:\n",
    "            json.dump(self.avatar_info, f)\n",
    "\n",
    "        if os.path.isfile(self.video_path):\n",
    "            video2images(self.video_path, self.full_imgs_path)\n",
    "        else:\n",
    "            print(f\"copy files in {self.video_path}\")\n",
    "            files = os.listdir(self.video_path)\n",
    "            files.sort()\n",
    "            files = [file for file in files if file.split(\".\")[-1] == \"png\"]\n",
    "            for filename in files:\n",
    "                shutil.copyfile(f\"{self.video_path}/{filename}\", f\"{self.full_imgs_path}/{filename}\")\n",
    "        input_img_list = sorted(glob.glob(os.path.join(self.full_imgs_path, '*.[jpJP][pnPN]*[gG]')))\n",
    "\n",
    "        print(\"extracting landmarks...\")\n",
    "        coord_list, frame_list = get_landmark_and_bbox(input_img_list, self.bbox_shift)\n",
    "        input_latent_list = []\n",
    "        idx = -1\n",
    "        # maker if the bbox is not sufficient\n",
    "        coord_placeholder = (0.0, 0.0, 0.0, 0.0)\n",
    "        for bbox, frame in zip(coord_list, frame_list):\n",
    "            idx = idx + 1\n",
    "            if bbox == coord_placeholder:\n",
    "                continue\n",
    "            x1, y1, x2, y2 = bbox\n",
    "            crop_frame = frame[y1:y2, x1:x2]\n",
    "            resized_crop_frame = cv2.resize(crop_frame, (256, 256), interpolation=cv2.INTER_LANCZOS4)\n",
    "            latents = vae.get_latents_for_unet(resized_crop_frame)\n",
    "            input_latent_list.append(latents)\n",
    "\n",
    "        self.frame_list_cycle = frame_list + frame_list[::-1]\n",
    "        self.coord_list_cycle = coord_list + coord_list[::-1]\n",
    "        self.input_latent_list_cycle = input_latent_list + input_latent_list[::-1]\n",
    "        self.mask_coords_list_cycle = []\n",
    "        self.mask_list_cycle = []\n",
    "\n",
    "        for i, frame in enumerate(tqdm(self.frame_list_cycle)):\n",
    "            cv2.imwrite(f\"{self.full_imgs_path}/{str(i).zfill(8)}.png\", frame)\n",
    "\n",
    "            face_box = self.coord_list_cycle[i]\n",
    "            mask, crop_box = get_image_prepare_material(frame, face_box)\n",
    "            cv2.imwrite(f\"{self.mask_out_path}/{str(i).zfill(8)}.png\", mask)\n",
    "            self.mask_coords_list_cycle += [crop_box]\n",
    "            self.mask_list_cycle.append(mask)\n",
    "\n",
    "        with open(self.mask_coords_path, 'wb') as f:\n",
    "            pickle.dump(self.mask_coords_list_cycle, f)\n",
    "\n",
    "        with open(self.coords_path, 'wb') as f:\n",
    "            pickle.dump(self.coord_list_cycle, f)\n",
    "\n",
    "        torch.save(self.input_latent_list_cycle, os.path.join(self.latents_out_path))\n",
    "        #\n",
    "\n",
    "    def process_frames(self,\n",
    "                       res_frame_queue,\n",
    "                       video_len,\n",
    "                       skip_save_images):\n",
    "        print(video_len)\n",
    "        while True:\n",
    "            if self.idx >= video_len - 1:\n",
    "                break\n",
    "            try:\n",
    "                start = time.time()\n",
    "                res_frame = res_frame_queue.get(block=True, timeout=1)\n",
    "            except queue.Empty:\n",
    "                continue\n",
    "\n",
    "            bbox = self.coord_list_cycle[self.idx % (len(self.coord_list_cycle))]\n",
    "            ori_frame = copy.deepcopy(self.frame_list_cycle[self.idx % (len(self.frame_list_cycle))])\n",
    "            x1, y1, x2, y2 = bbox\n",
    "            try:\n",
    "                res_frame = cv2.resize(res_frame.astype(np.uint8), (x2 - x1, y2 - y1))\n",
    "            except:\n",
    "                continue\n",
    "            mask = self.mask_list_cycle[self.idx % (len(self.mask_list_cycle))]\n",
    "            mask_crop_box = self.mask_coords_list_cycle[self.idx % (len(self.mask_coords_list_cycle))]\n",
    "            # combine_frame = get_image(ori_frame,res_frame,bbox)\n",
    "            combine_frame = get_image_blending(ori_frame, res_frame, bbox, mask, mask_crop_box)\n",
    "\n",
    "            if skip_save_images is False:\n",
    "                cv2.imwrite(f\"{self.avatar_path}/tmp/{str(self.idx).zfill(8)}.png\", combine_frame)\n",
    "            self.idx = self.idx + 1\n",
    "\n",
    "    def inference(\n",
    "            self,\n",
    "            audio_path,\n",
    "            out_vid_name,\n",
    "            fps,\n",
    "            skip_save_images\n",
    "    ):\n",
    "        os.makedirs(self.avatar_path + '/tmp', exist_ok=True)\n",
    "        print(\"start inference\")\n",
    "        ############################################## extract audio feature ##############################################\n",
    "        start_time = time.time()\n",
    "        whisper_feature = audio_feature_extractor.extract_feature(audio_path)\n",
    "        whisper_chunks = audio_feature_extractor.chunk_feature(whisper_feature, fps)\n",
    "        print(f\"processing audio:{audio_path} costs {(time.time() - start_time) * 1000}ms\")\n",
    "        ############################################## inference batch by batch ##############################################\n",
    "        video_num = len(whisper_chunks)\n",
    "        res_frame_queue = queue.Queue()\n",
    "        self.idx = 0\n",
    "        # # Create a sub-thread and start it\n",
    "        process_thread = threading.Thread(target=self.process_frames,\n",
    "                                          args=(res_frame_queue, video_num, skip_save_images))\n",
    "        process_thread.start()\n",
    "\n",
    "        gen = datagen(whisper_chunks,\n",
    "                      self.input_latent_list_cycle,\n",
    "                      self.batch_size)\n",
    "        start_time = time.time()\n",
    "\n",
    "        for i, (whisper_batch, latent_batch) in enumerate(\n",
    "                tqdm(gen, total=int(np.ceil(float(video_num) / self.batch_size)))):\n",
    "            audio_feature_batch = torch.from_numpy(whisper_batch)\n",
    "            audio_feature_batch = audio_feature_batch.to(\n",
    "                device=unet.device,\n",
    "                dtype=unet.model.dtype\n",
    "            )\n",
    "            audio_feature_batch = pe(audio_feature_batch)\n",
    "            latent_batch = latent_batch.to(dtype=unet.model.dtype)\n",
    "\n",
    "            pred_latents = unet.model(\n",
    "                latent_batch,\n",
    "                timesteps,\n",
    "                encoder_hidden_states=audio_feature_batch\n",
    "            ).sample\n",
    "            recon = vae.decode_latents(pred_latents)\n",
    "            for res_frame in recon:\n",
    "                res_frame_queue.put(res_frame)\n",
    "        # Close the queue and sub-thread after all tasks are completed\n",
    "        process_thread.join()\n",
    "\n",
    "        if skip_save_images is True:\n",
    "            print('Total process time of {} frames without saving images = {}s'.format(\n",
    "                video_num,\n",
    "                time.time() - start_time))\n",
    "        else:\n",
    "            print('Total process time of {} frames including saving images = {}s'.format(\n",
    "                video_num,\n",
    "                time.time() - start_time))\n",
    "\n",
    "        if out_vid_name is not None and skip_save_images is False:\n",
    "            # optional\n",
    "            cmd_img2video = f\"ffmpeg -y -v warning -r {fps} -f image2 -i {self.avatar_path}/tmp/%08d.png -vcodec libx264 -vf format=rgb24,scale=out_color_matrix=bt709,format=yuv420p -crf 18 {self.avatar_path}/temp.mp4\"\n",
    "            print(cmd_img2video)\n",
    "            os.system(cmd_img2video)\n",
    "\n",
    "            output_vid = os.path.join(self.video_out_path, out_vid_name + \".mp4\")  # on\n",
    "            cmd_combine_audio = f\"ffmpeg -y -v warning -i {audio_path} -i {self.avatar_path}/temp.mp4 {output_vid}\"\n",
    "            print(cmd_combine_audio)\n",
    "            os.system(cmd_combine_audio)\n",
    "\n",
    "            os.remove(f\"{self.avatar_path}/temp.mp4\")\n",
    "            shutil.rmtree(f\"{self.avatar_path}/tmp\")\n",
    "            print(f\"result is save to {output_vid}\")\n",
    "        print(\"\\n\")\n"
   ]
  },
  {
   "cell_type": "code",
   "execution_count": 5,
   "id": "58ca2de1-4e07-4481-af17-f8c6ad113af7",
   "metadata": {},
   "outputs": [
    {
     "name": "stdout",
     "output_type": "stream",
     "text": [
      "reading images using OpenCV asynchronously\n"
     ]
    },
    {
     "name": "stderr",
     "output_type": "stream",
     "text": [
      "1480it [00:28, 52.23it/s]\n"
     ]
    },
    {
     "name": "stdout",
     "output_type": "stream",
     "text": [
      "reading images using OpenCV asynchronously\n"
     ]
    },
    {
     "name": "stderr",
     "output_type": "stream",
     "text": [
      "1480it [00:00, 1976.30it/s]\n"
     ]
    }
   ],
   "source": [
    "# s = time.time()\n",
    "\n",
    "fps = 25\n",
    "skip_save_images = False\n",
    "\n",
    "avatar = Avatar(\n",
    "    avatar_id=\"avator_1\",\n",
    "    video_path=\"./data/video/zack.mp4\",\n",
    "    bbox_shift=5,\n",
    "    batch_size=8,\n",
    "    preparation=False\n",
    ")\n",
    "\n",
    "\n",
    "# for avatar_id in [\"avator_1\"]:\n",
    "#     data_preparation = False\n",
    "#     video_path = \"./data/video/zack.mp4\"\n",
    "#     bbox_shift = 5\n",
    "#     avatar = Avatar(\n",
    "#         avatar_id=avatar_id,\n",
    "#         video_path=video_path,\n",
    "#         bbox_shift=bbox_shift,\n",
    "#         batch_size=4,\n",
    "#         preparation=data_preparation\n",
    "#     )\n",
    "#     audio_clips = {\"audio_0\":\"./data/audio/00000002.mp3\"}\n",
    "#     for audio_num, audio_path in audio_clips.items():\n",
    "#         print(\"Inferring using:\", audio_path)\n",
    "#         avatar.inference(\n",
    "#             audio_path,\n",
    "#             audio_num,\n",
    "#             fps,\n",
    "#             skip_save_images\n",
    "#         )\n",
    "\n",
    "# time.time() - s"
   ]
  },
  {
   "cell_type": "code",
   "execution_count": 9,
   "id": "b0b7b2a0-8af1-4f07-9ddd-166a936f339c",
   "metadata": {},
   "outputs": [
    {
     "name": "stdout",
     "output_type": "stream",
     "text": [
      "start inference\n",
      "video in 25 FPS, audio idx in 50FPS\n",
      "processing audio:./data/audio/00000002.mp3 costs 434.0839385986328ms\n",
      "295\n"
     ]
    },
    {
     "name": "stderr",
     "output_type": "stream",
     "text": [
      "100%|██████████| 37/37 [00:04<00:00,  7.41it/s]\n"
     ]
    },
    {
     "name": "stdout",
     "output_type": "stream",
     "text": [
      "Total process time of 295 frames including saving images = 14.469981908798218s\n",
      "ffmpeg -y -v warning -r 25 -f image2 -i ./results/avatars/avator_1/tmp/%08d.png -vcodec libx264 -vf format=rgb24,scale=out_color_matrix=bt709,format=yuv420p -crf 18 ./results/avatars/avator_1/temp.mp4\n",
      "ffmpeg -y -v warning -i ./data/audio/00000002.mp3 -i ./results/avatars/avator_1/temp.mp4 ./results/avatars/avator_1/vid_output/0.mp4\n"
     ]
    },
    {
     "name": "stderr",
     "output_type": "stream",
     "text": [
      "[mp3 @ 0x559cf82ac400] Estimating duration from bitrate, this may be inaccurate\n"
     ]
    },
    {
     "name": "stdout",
     "output_type": "stream",
     "text": [
      "result is save to ./results/avatars/avator_1/vid_output/0.mp4\n",
      "\n",
      "\n"
     ]
    },
    {
     "data": {
      "text/plain": [
       "20.3300838470459"
      ]
     },
     "execution_count": 9,
     "metadata": {},
     "output_type": "execute_result"
    }
   ],
   "source": [
    "s = time.time()\n",
    "avatar.inference(\n",
    "    \"./data/audio/00000002.mp3\",\n",
    "    '0',\n",
    "    fps,\n",
    "    skip_save_images\n",
    ")\n",
    "time.time() - s"
   ]
  },
  {
   "cell_type": "code",
   "execution_count": 7,
   "id": "824d8d18-4e8a-44cf-af9d-b8203f62e426",
   "metadata": {},
   "outputs": [
    {
     "data": {
      "text/html": [
       "<video src=\"./results/avatars/tjl/vid_output/audio_0.mp4\" controls  width=\"150\" >\n",
       "      Your browser does not support the <code>video</code> element.\n",
       "    </video>"
      ],
      "text/plain": [
       "<IPython.core.display.Video object>"
      ]
     },
     "execution_count": 7,
     "metadata": {},
     "output_type": "execute_result"
    }
   ],
   "source": [
    "from IPython import display\n",
    "\n",
    "display.Video(\"./results/avatars/tjl/vid_output/audio_0.mp4\", width=150)"
   ]
  },
  {
   "cell_type": "code",
   "execution_count": 3,
   "id": "0cbd3520-a302-41e8-af42-d308375cc762",
   "metadata": {},
   "outputs": [
    {
     "data": {
      "text/html": [
       "\n",
       "                <audio  controls=\"controls\" >\n",
       "                    <source src=\"data:audio/mpeg;base64,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\" type=\"audio/mpeg\" />\n",
       "                    Your browser does not support the audio element.\n",
       "                </audio>\n",
       "              "
      ],
      "text/plain": [
       "<IPython.lib.display.Audio object>"
      ]
     },
     "execution_count": 3,
     "metadata": {},
     "output_type": "execute_result"
    }
   ],
   "source": [
    "display.Audio(\"./data/audio/00000002.mp3\")"
   ]
  },
  {
   "cell_type": "code",
   "execution_count": 18,
   "id": "18d4d881-4fce-4b62-9af0-38fec0f34cd3",
   "metadata": {},
   "outputs": [],
   "source": [
    "from musetalk.whisper.audio_feature_extractor import AudioFeatureExtractor"
   ]
  },
  {
   "cell_type": "code",
   "execution_count": 7,
   "id": "54baf6e4-8bd0-48ca-bbbc-a3c85a6e1294",
   "metadata": {},
   "outputs": [
    {
     "name": "stdout",
     "output_type": "stream",
     "text": [
      "video in 25 FPS, audio idx in 50FPS\n"
     ]
    }
   ],
   "source": [
    "feature = audio_feature_extractor.extract_feature(\"./data/audio/zack.mp3\")\n",
    "chunks = audio_feature_extractor.chunk_feature(feature, 25)\n",
    "del feature\n",
    "del chunks"
   ]
  },
  {
   "cell_type": "code",
   "execution_count": null,
   "id": "15f7a9d0-cc68-4512-b0e5-495eec6b9b0d",
   "metadata": {},
   "outputs": [],
   "source": []
  }
 ],
 "metadata": {
  "kernelspec": {
   "display_name": "Python 3 (ipykernel)",
   "language": "python",
   "name": "python3"
  },
  "language_info": {
   "codemirror_mode": {
    "name": "ipython",
    "version": 3
   },
   "file_extension": ".py",
   "mimetype": "text/x-python",
   "name": "python",
   "nbconvert_exporter": "python",
   "pygments_lexer": "ipython3",
   "version": "3.9.19"
  }
 },
 "nbformat": 4,
 "nbformat_minor": 5
}
