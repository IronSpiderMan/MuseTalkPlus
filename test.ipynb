{
 "cells": [
  {
   "cell_type": "code",
   "execution_count": 5,
   "id": "320e2db5-1bac-4eb2-a627-6bf2ebbf40fa",
   "metadata": {},
   "outputs": [],
   "source": [
    "import glob\n",
    "import time\n",
    "\n",
    "import cv2\n",
    "import numpy as np\n",
    "from PIL import Image\n",
    "from tqdm import tqdm\n",
    "from concurrent.futures import ThreadPoolExecutor\n",
    "\n",
    "\n",
    "def timeit(func):\n",
    "    def inner(*args, **kwargs):\n",
    "        start = time.time()\n",
    "        result = func(*args, **kwargs)\n",
    "        end = time.time()\n",
    "        print(f\"{func.__name__} speed: {(end - start) * 1000:.2f} ms\")\n",
    "        return result\n",
    "\n",
    "    return inner"
   ]
  },
  {
   "cell_type": "code",
   "execution_count": 6,
   "id": "cfe95c05-516b-4099-87ae-27a228c7a41d",
   "metadata": {},
   "outputs": [],
   "source": [
    "@timeit\n",
    "def read_images_pil(filepath):\n",
    "    print(\"reading images using PIL\")\n",
    "    arrays = []\n",
    "    for file in tqdm(glob.glob(filepath + \"/*\")):\n",
    "        img = Image.open(file)\n",
    "        arrays.append(np.array(img))\n",
    "    return arrays\n",
    "\n",
    "\n",
    "@timeit\n",
    "def read_images_cv(filepath):\n",
    "    print(\"reading images using OpenCV\")\n",
    "    frames = []\n",
    "    for img_path in tqdm(glob.glob(filepath + \"/*\")):\n",
    "        frame = cv2.imread(img_path)\n",
    "        frames.append(frame)\n",
    "    return frames\n",
    "\n",
    "\n",
    "@timeit\n",
    "def read_images_cv_async(filepath):\n",
    "    print(\"reading images using OpenCV asynchronously\")\n",
    "    frames = []\n",
    "    with ThreadPoolExecutor() as executor:\n",
    "        for frame in tqdm(executor.map(cv2.imread, glob.glob(filepath + \"/*\"))):\n",
    "            frames.append(frame)\n",
    "    return frames"
   ]
  },
  {
   "cell_type": "code",
   "execution_count": 7,
   "id": "ed1a8430-5e22-4aa0-93d4-3432124c9613",
   "metadata": {},
   "outputs": [
    {
     "name": "stdout",
     "output_type": "stream",
     "text": [
      "reading images using OpenCV asynchronously\n"
     ]
    },
    {
     "name": "stderr",
     "output_type": "stream",
     "text": [
      "1480it [00:02, 505.82it/s]"
     ]
    },
    {
     "name": "stdout",
     "output_type": "stream",
     "text": [
      "read_images_cv_async speed: 2968.80 ms\n"
     ]
    },
    {
     "name": "stderr",
     "output_type": "stream",
     "text": [
      "\n"
     ]
    }
   ],
   "source": [
    "filedir = \"./results/avatars/avator_1/full_imgs\"\n",
    "arrays = read_images_cv_async(filedir)\n",
    "del arrays"
   ]
  },
  {
   "cell_type": "code",
   "execution_count": 2,
   "id": "7c459072-e874-4ea6-9807-d33211ac2c19",
   "metadata": {},
   "outputs": [
    {
     "name": "stdout",
     "output_type": "stream",
     "text": [
      "/bin/bash: line 1: pip3: command not found\n"
     ]
    }
   ],
   "source": [
    "!pip3 list"
   ]
  },
  {
   "cell_type": "code",
   "execution_count": null,
   "id": "08898651-9e3d-4142-ac50-e99f665821b0",
   "metadata": {},
   "outputs": [],
   "source": []
  }
 ],
 "metadata": {
  "kernelspec": {
   "display_name": "Python 3 (ipykernel)",
   "language": "python",
   "name": "python3"
  },
  "language_info": {
   "codemirror_mode": {
    "name": "ipython",
    "version": 3
   },
   "file_extension": ".py",
   "mimetype": "text/x-python",
   "name": "python",
   "nbconvert_exporter": "python",
   "pygments_lexer": "ipython3",
   "version": "3.9.19"
  }
 },
 "nbformat": 4,
 "nbformat_minor": 5
}
